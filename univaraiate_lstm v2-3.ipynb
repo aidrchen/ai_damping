{
 "cells": [
  {
   "cell_type": "code",
   "execution_count": 1,
   "metadata": {},
   "outputs": [],
   "source": [
    "# given only the first 3 points. All the next steps are based on the previous prediction. It diverges soon."
   ]
  },
  {
   "cell_type": "code",
   "execution_count": 1,
   "metadata": {},
   "outputs": [],
   "source": [
    "import numpy as np\n",
    "import math\n",
    "import matplotlib.pyplot as plt\n",
    "import tensorflow as tf\n",
    "from tensorflow.keras import Sequential\n",
    "from tensorflow.keras.layers import SimpleRNN, LSTM, Dense\n",
    "from DummyData import *"
   ]
  },
  {
   "cell_type": "code",
   "execution_count": 2,
   "metadata": {},
   "outputs": [],
   "source": [
    "def split_sequence(sequence, n_steps):\n",
    "  X, y = [], []\n",
    "  for i in range(len(sequence)):\n",
    "    end_ix=i+n_steps\n",
    "    if end_ix > len(sequence)-1:\n",
    "      break\n",
    "    seq_x, seq_y=sequence[i:end_ix], sequence[end_ix]\n",
    "    X.append(seq_x), y.append(seq_y)\n",
    "  return np.asarray(X), np.asarray(y)"
   ]
  },
  {
   "cell_type": "code",
   "execution_count": 3,
   "metadata": {},
   "outputs": [],
   "source": [
    "f=f0\n",
    "# print(f(1))\n",
    "# print(f4(1))\n",
    "#raw_seq=[i for i in range(10, 100, 10)]\n",
    "raw_seq=[f(i) for i in range(1,2000)]\n",
    "#raw_seq\n",
    "# plt.plot(raw_seq)\n",
    "# plt.show"
   ]
  },
  {
   "cell_type": "code",
   "execution_count": 4,
   "metadata": {},
   "outputs": [],
   "source": [
    "n_step=3\n",
    "X,y=split_sequence(raw_seq,n_step)\n",
    "#X, y\n",
    "\n",
    "n_features=1\n",
    "X2=X.reshape((X.shape[0],X.shape[1],n_features))"
   ]
  },
  {
   "cell_type": "code",
   "execution_count": 5,
   "metadata": {},
   "outputs": [
    {
     "name": "stdout",
     "output_type": "stream",
     "text": [
      "Model: \"sequential\"\n",
      "_________________________________________________________________\n",
      "Layer (type)                 Output Shape              Param #   \n",
      "=================================================================\n",
      "lstm (LSTM)                  (None, 50)                10400     \n",
      "_________________________________________________________________\n",
      "dense (Dense)                (None, 1)                 51        \n",
      "=================================================================\n",
      "Total params: 10,451\n",
      "Trainable params: 10,451\n",
      "Non-trainable params: 0\n",
      "_________________________________________________________________\n"
     ]
    }
   ],
   "source": [
    "model = Sequential()\n",
    "model.add(LSTM(50,activation='relu',input_shape=(n_step,n_features)))\n",
    "# model.add(SimpleRNN(50,activation='relu',input_shape=(n_step,n_features)))\n",
    "model.add(Dense(1))\n",
    "model.compile(optimizer='adam',loss='mse',metrics=['acc'])\n",
    "model.summary()"
   ]
  },
  {
   "cell_type": "code",
   "execution_count": 6,
   "metadata": {},
   "outputs": [],
   "source": [
    "fit_results=model.fit(X2,y,epochs=100,verbose=0)"
   ]
  },
  {
   "cell_type": "code",
   "execution_count": 7,
   "metadata": {},
   "outputs": [
    {
     "data": {
      "text/plain": [
       "[<matplotlib.lines.Line2D at 0x16d7e42b688>]"
      ]
     },
     "execution_count": 7,
     "metadata": {},
     "output_type": "execute_result"
    },
    {
     "data": {
      "image/png": "[encoded data removed]",
      "text/plain": [
       "<Figure size 432x288 with 1 Axes>"
      ]
     },
     "metadata": {
      "needs_background": "light"
     },
     "output_type": "display_data"
    }
   ],
   "source": [
    "# print(fit_results.history)\n",
    "plt.figure()\n",
    "plt.subplot(211)\n",
    "plt.plot(fit_results.history['loss'])"
   ]
  },
  {
   "cell_type": "code",
   "execution_count": 48,
   "metadata": {},
   "outputs": [
    {
     "data": {
      "text/plain": [
       "<function matplotlib.pyplot.show(*args, **kw)>"
      ]
     },
     "execution_count": 48,
     "metadata": {},
     "output_type": "execute_result"
    },
    {
     "data": {
      "image/png": "[encoded data removed]",
      "text/plain": [
       "<Figure size 432x288 with 1 Axes>"
      ]
     },
     "metadata": {
      "needs_background": "light"
     },
     "output_type": "display_data"
    }
   ],
   "source": [
    "# prediction with sequence:\n",
    "\n",
    "psteps = 20\n",
    "test_raw_seq=[f(i) for i in range(4200,4200 + psteps)]\n",
    "# print(test_raw_seq[0:3])\n",
    "test_X=np.asarray(test_raw_seq[0:3])\n",
    "test_X2=test_X.reshape(1,3,1)\n",
    "test_y_predict_1=model(test_X2)\n",
    "test_X_full=test_raw_seq[0:3]\n",
    "# print(test_y_predict_1.numpy().item())\n",
    "for i in range(psteps):\n",
    "        test_X[0:2]=test_X[1:3] \n",
    "        test_X[2]=test_y_predict_1.numpy().item()\n",
    "#         print(test_X)\n",
    "        test_X2=test_X.reshape(1,3,1)\n",
    "        test_y_predict_1=model(test_X2)\n",
    "        test_X_full.append(test_y_predict_1.numpy().item())\n",
    "#         print(test_X_full)\n",
    "plt.subplot(212)\n",
    "# plt.plot([i for i in range(len(test_raw_seq)-n_step)],test_y_predict.numpy())\n",
    "# plt.scatter([i for i in range(50)], test_X,s=3, c='red')\n",
    "plt.plot(test_X_full, c='red')\n",
    "plt.plot(test_raw_seq, c='blue')\n",
    "plt.show          "
   ]
  },
  {
   "cell_type": "code",
   "execution_count": null,
   "metadata": {},
   "outputs": [],
   "source": []
  }
 ],
 "metadata": {
  "kernelspec": {
   "display_name": "Python 3",
   "language": "python",
   "name": "python3"
  },
  "language_info": {
   "codemirror_mode": {
    "name": "ipython",
    "version": 3
   },
   "file_extension": ".py",
   "mimetype": "text/x-python",
   "name": "python",
   "nbconvert_exporter": "python",
   "pygments_lexer": "ipython3",
   "version": "3.7.7"
  }
 },
 "nbformat": 4,
 "nbformat_minor": 4
}
